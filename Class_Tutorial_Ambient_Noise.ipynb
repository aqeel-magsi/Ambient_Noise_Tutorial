{
 "cells": [
  {
   "cell_type": "markdown",
   "id": "3746b418",
   "metadata": {},
   "source": [
    "##  A Brief Introdcution of Ambient Noise Cross-correlation"
   ]
  },
  {
   "cell_type": "markdown",
   "id": "33704948",
   "metadata": {},
   "source": [
    "### What is ambient noise\n",
    "\n",
    "In seismology, the term \"noise\" refers to ground motion which is recorded in the absence of an identifiable source of seismic energy, such as an earthquake. In particular, seismic noise is the weak, low-frequency seismic signal originating from randomly distributed sources. The continuous interaction of low frequency (<1Hz) oceanic surface waves (swells) with the Earth's crust is the main cause of natural ambient noise  and is observed globally (Aki and Richards). \n",
    "\n",
    "It is often discarded and cannot be used for geophysical applications, but not always. Seismic noise can be utilized for earth imaging in the border sense, i.e., structural analysis of crust, global tomography, and monitoring velocity changes along faults and volcanic regions. For instance, the cross-correlation of seismic noise reflects the medium properties along the prorogation path.\n",
    "\n",
    "this process is known as Seismic noise interferometry (SNI)."
   ]
  },
  {
   "cell_type": "markdown",
   "id": "2edb46c7",
   "metadata": {},
   "source": [
    "\n",
    "### Ambient noise cross correlation\n",
    "\n",
    "Given two seismometers, u_1 and u_2, placed at some distance apart on the surface, the stations will record ground motion as a function of time: u_1(t) and u_2(t). Over long periods of time, the cross-correlation of ground motions of u_1(t) and u_2(t)\n",
    "$$\n",
    "                               C_{12}(\\tau) = \\int u_1(t) u_2(t+\\tau) dt \\qquad\n",
    "$$\n",
    "\n",
    "yields a band-limited approximation of the elastodynamic Green's function, or impulse response,  between  u_1 and u_2. We call C_{12}(\\tau) the time-domain cross-correlation function."
   ]
  },
  {
   "cell_type": "markdown",
   "id": "6cf23abb",
   "metadata": {},
   "source": [
    "![<caption>](https://cdn.nextjournal.com/data/QmfCUzBPFZy4GCd3NCX4ZBYF97UdBUU3zmdNyzKSUp4rBz?filename=xcorr.png&content-type=image/png) ."
   ]
  },
  {
   "cell_type": "markdown",
   "id": "9b3aade3",
   "metadata": {},
   "source": [
    "A useful way to understand the role of cross-correlation in SNI is that it highlights the traveltimes of seismic waves. A wavefield which has travelled between two stations will cause a similar signal to be recorded at each, shifted in time: the cross-correlation function (CCF) of the records will therefore contain a peak at a time lag which corresponds to the traveltime of the wavefield between the two stations (Fig.2)."
   ]
  },
  {
   "cell_type": "markdown",
   "id": "e51b76ff",
   "metadata": {},
   "source": [
    "![image info](http://volc_seis_commission.leeds.ac.uk/images/stories/crossc.jpg)\n",
    "\n",
    "Figure 2. (a) a source of seismic energy (left) is recorded at receivers R1 and R2, causing identical signals separated by a time τ (right), corresponding to the travel time of the wavefield between the receivers.\n",
    "(b) the cross-correlation function of the two records, on which the traveltime is highlighted as a peak.!"
   ]
  },
  {
   "cell_type": "markdown",
   "id": "7443b945",
   "metadata": {},
   "source": [
    "\n",
    "\n",
    "Cross-correlation is performed for positive and negative time lags, so CCFs have both positive (\"causal\") and negative (\"acausal\") parts. Oceanic noise arrives from all directions, and the noise records which are cross-correlated during SNI therefore contain energy which has travelled in both directions along an interstation path.\n",
    "\n",
    "GFs which emerge on noise cross-correlation functions (NCFs) will therefore contain energy in both the causal and acausal parts, symmetric about zero time lag: the causal part representing energy arriving at station B in response to an impulsive source at station A, and the acausal part energy arriving at station A in response to a source at station B (Fig.3). Because GFs are usually assumed to be the same in both directions along a path, the two sides of an NCF can be treated as representing exactly the same information, but reversed in time."
   ]
  },
  {
   "cell_type": "markdown",
   "id": "e50e1e02",
   "metadata": {},
   "source": [
    "![image info](http://volc_seis_commission.leeds.ac.uk/images/stories/antiii.jpg)\n"
   ]
  },
  {
   "cell_type": "markdown",
   "id": "ebfe6094",
   "metadata": {},
   "source": [
    "### Workflow"
   ]
  },
  {
   "cell_type": "markdown",
   "id": "e8718b56",
   "metadata": {},
   "source": [
    "![image info](http://volc_seis_commission.leeds.ac.uk/images/stories/graph5.jpg\n",
    ")\n"
   ]
  },
  {
   "cell_type": "markdown",
   "id": "4da8cc1a",
   "metadata": {},
   "source": [
    "#### Data Preparation and inital processing\n"
   ]
  },
  {
   "cell_type": "markdown",
   "id": "02f9bb93",
   "metadata": {},
   "source": [
    "\n",
    "The basic step in the data processing method is to prepare waveform data from each station separately. The goal of this phase is to accentuate broad-band ambient noise by removing earthquake signals and instrumental irregularities that tend to obscure it.\n",
    "\n",
    "<!-- The steps that compose Phase 1 of data processing: removal of the instrument response, de-meaning, de-trending and bandpass filtering the seismogram, time-domain normalization and spectral whitening. This procedure is typically applied to a single day of data. -->\n",
    "\n",
    "1. The mean and trend are removed from the data (\"rmean\" and \"rtrend\" respectively).\n",
    "\n",
    "\n",
    "2. The bandpass filtering is applied on data\n",
    "\n",
    "\n",
    "3. Spectral whitening (flattening) is applied to reduce the effect of highly energetic frequencies in the records (\"whiten\"). \n",
    "\n",
    "\n",
    "4. In order to further down-weight the contribution of high-energy arrivals which could obscure the lower amplitude ambient noise signal, a \"one-bit\" normalisation is applied after various authors (e.g. Stehly et. al. (2007)) "
   ]
  },
  {
   "cell_type": "markdown",
   "id": "76785c4a",
   "metadata": {},
   "source": [
    "**Import Useful Packages**"
   ]
  },
  {
   "cell_type": "code",
   "execution_count": 24,
   "id": "4211f1ca",
   "metadata": {},
   "outputs": [],
   "source": [
    "import os\n",
    "import numpy as np\n",
    "import re\n",
    "import obspy\n",
    "import scipy.signal as signal\n",
    "from obspy.geodetics import gps2dist_azimuth\n",
    "import pdb\n",
    "import math\n",
    "import matplotlib.pyplot as plt\n",
    "import scipy.io as scio\n",
    "import glob"
   ]
  },
  {
   "cell_type": "markdown",
   "id": "ed652a2c",
   "metadata": {},
   "source": [
    "**scripts will be here**\n",
    "\n",
    "**Data Parameters**"
   ]
  },
  {
   "cell_type": "code",
   "execution_count": 26,
   "id": "c2d14ad3",
   "metadata": {},
   "outputs": [],
   "source": [
    "# File containing the station information\n",
    "sta_file = \"ML_G1_sub.loc\"  \n",
    "\n",
    "# File containing corresponding station response file (RESP. format)\n",
    "resp_files = \"OBSstaResp.txt\"    \n",
    "\n",
    "rm_resp = False                # Index of performing instrument response removal or not: =True remove, will\n",
    "                               # use RespFile; otherwise, RespFile is not used\n",
    "    \n",
    "# Folder containing all sac data for all stations\n",
    "\n",
    "data_dir = 'ML_G1/'   \n",
    "\n",
    "# Array of period bands of the CFs, unit: sec; \n",
    "\n",
    "period_band = np.array([[2,5]]) \n",
    "\n",
    "# Data resampling frequency; original sample freq/ fsNew must be an integer\n",
    "    \n",
    "fs_new = 50           \n",
    "\n",
    "# =1, spectrum whitening; otherwise use original spectrum\n",
    "\n",
    "white_spec = True \n",
    "\n",
    "# =1: one-bit cross-correlation; =2: temporal normalization cross-correlation\n",
    "    \n",
    "corr_method = 2           \n",
    "\n",
    "year_range = [2020,2020]        # Year range of the data\n",
    "day_range = [109,109]           # Range of days in a year for CF calculation\n",
    "max_lagtime = 200               # Maximum time length (in seconds) for each side of CFs\n",
    "seg_hour = 2                    # Data segment length for data preprocessing(removing response,\n",
    "                               # sectral whitening)\n",
    "    \n",
    "# datacomponent for the first/second station for the processing\n",
    "cmp1 = 'bhz'; cmp2 = \"bhz\"    \n",
    "\n",
    " # output folder for CFs\n",
    "    \n",
    "out_dir = 'CFs_ML_G1'         \n"
   ]
  },
  {
   "cell_type": "code",
   "execution_count": null,
   "id": "7eac76c8",
   "metadata": {},
   "outputs": [],
   "source": []
  },
  {
   "cell_type": "code",
   "execution_count": null,
   "id": "81d0b2ba",
   "metadata": {},
   "outputs": [],
   "source": []
  },
  {
   "cell_type": "code",
   "execution_count": null,
   "id": "4daf49a2",
   "metadata": {},
   "outputs": [],
   "source": []
  },
  {
   "cell_type": "markdown",
   "id": "43631dc2",
   "metadata": {},
   "source": [
    "### References\n",
    "\n",
    "1. Bensen, G. D., M. H. Ritzwoller, M. P. Barmin, A. Lin Levshin, Feifan Lin, M. P. Moschetti, N. M. Shapiro, and Yanyan Yang. \"Processing seismic ambient noise data to obtain reliable broad-band surface wave dispersion measurements.\" Geophysical journal international 169, no. 3 (2007): 1239-1260.\n",
    "2. Tutorial 6 - Seismic noise interferometry http://volc_seis_commission.leeds.ac.uk/indexa63d.html\n",
    "\n",
    "3. Stehly, L.,  Campillo, M., and Shapiro, N.M. Traveltime measurements from noise correlation: stability and detection of instrumental time shifts. Geophys. J. Int. (2007) 171 223-230.\n"
   ]
  },
  {
   "cell_type": "code",
   "execution_count": 22,
   "id": "f01a9b07",
   "metadata": {},
   "outputs": [
    {
     "data": {
      "text/plain": [
       "'/home/aqeel/Desktop/PhD_Data/Lab_sharing/Jinping/seisloc_example'"
      ]
     },
     "execution_count": 22,
     "metadata": {},
     "output_type": "execute_result"
    }
   ],
   "source": [
    "import os\n",
    "os.getcwd()"
   ]
  },
  {
   "cell_type": "code",
   "execution_count": null,
   "id": "f6c9b9af",
   "metadata": {},
   "outputs": [],
   "source": []
  }
 ],
 "metadata": {
  "kernelspec": {
   "display_name": "Python 3 (ipykernel)",
   "language": "python",
   "name": "python3"
  },
  "language_info": {
   "codemirror_mode": {
    "name": "ipython",
    "version": 3
   },
   "file_extension": ".py",
   "mimetype": "text/x-python",
   "name": "python",
   "nbconvert_exporter": "python",
   "pygments_lexer": "ipython3",
   "version": "3.7.7"
  },
  "toc": {
   "base_numbering": 1,
   "nav_menu": {},
   "number_sections": true,
   "sideBar": true,
   "skip_h1_title": false,
   "title_cell": "Table of Contents",
   "title_sidebar": "Contents",
   "toc_cell": false,
   "toc_position": {},
   "toc_section_display": true,
   "toc_window_display": false
  }
 },
 "nbformat": 4,
 "nbformat_minor": 5
}
